{
 "cells": [
  {
   "cell_type": "code",
   "execution_count": 2,
   "metadata": {},
   "outputs": [],
   "source": [
    "import requests\n",
    "from dotenv import  load_dotenv\n",
    "import os\n",
    "\n",
    "load_dotenv()\n",
    "\n",
    "def call_api_to_get_data(date, enddate, city = \"Ho+Chi+Minh+City\"):\n",
    "    \n",
    "    link = \"http://api.worldweatheronline.com/premium/v1/past-weather.ashx?q={city}&date={date}&enddate={enddate}&key={api_key}&format=json&tp=1\".format(\n",
    "        date =date,\n",
    "        enddate = enddate,\n",
    "        city = city,\n",
    "        api_key = os.getenv(\"api_key\")\n",
    "    )\n",
    "    response = requests.get(link)\n",
    "    return response.json()"
   ]
  },
  {
   "cell_type": "code",
   "execution_count": 42,
   "metadata": {},
   "outputs": [],
   "source": [
    "import pandas as pd\n",
    "\n",
    "df_humidity = pd.read_csv(\"historical-hourly-weather-dataset/humidity.csv\")\n",
    "df_pressure = pd.read_csv(\"historical-hourly-weather-dataset/pressure.csv\")\n",
    "df_temperature = pd.read_csv(\"historical-hourly-weather-dataset/temperature.csv\")\n",
    "df_weather_desc = pd.read_csv(\"historical-hourly-weather-dataset/weather_description.csv\")\n",
    "df_wind_dir = pd.read_csv(\"historical-hourly-weather-dataset/wind_direction.csv\")\n",
    "df_wind_speed = pd.read_csv(\"historical-hourly-weather-dataset/wind_speed.csv\")"
   ]
  },
  {
   "cell_type": "code",
   "execution_count": null,
   "metadata": {},
   "outputs": [],
   "source": [
    "from datetime import datetime, timedelta\n",
    "import calendar\n",
    "\n",
    "start_date = datetime(2012, 10, 1)\n",
    "end_date = datetime(2017, 11, 30)\n",
    "date_format = \"%Y-%m-%d\"\n",
    "\n",
    "current_date = start_date\n",
    "dates_list = []\n",
    "\n",
    "while current_date <= end_date:\n",
    "    last_day_of_month = calendar.monthrange(current_date.year, current_date.month)[1]\n",
    "    \n",
    "    first_day_of_month = current_date.replace(day=1)\n",
    "    last_day_of_month = current_date.replace(day=last_day_of_month)\n",
    "    \n",
    "    dates_list.append((first_day_of_month.strftime(date_format), last_day_of_month.strftime(date_format)))\n",
    "    \n",
    "    current_date = last_day_of_month + timedelta(days=1)\n",
    "\n",
    "for date in dates_list:\n",
    "    print(date)"
   ]
  },
  {
   "cell_type": "code",
   "execution_count": null,
   "metadata": {},
   "outputs": [],
   "source": [
    "import numpy as np \n",
    "\n",
    "def handle_append_hcm_data(json, humidity_arr, time_arr, wind_dir_arr, wind_speed_arr, pressure_arr, weather_desc_arr , temp_arr):\n",
    "\n",
    "    for day_data in json[\"data\"][\"weather\"]:\n",
    "        \n",
    "        date = day_data[\"date\"]\n",
    "        for hour_data in day_data['hourly']:\n",
    "            time = \"{date} {time}:00:00\".format(date = date, time = int(int(hour_data[\"time\"])/100))\n",
    "            wind_speed_ms = round(float(hour_data[\"windspeedKmph\"])* (10/36),2)\n",
    "            wind_dir = int(hour_data[\"winddirDegree\"])\n",
    "            humidity = int(hour_data[\"humidity\"])\n",
    "            pressure = int(hour_data[\"pressure\"])\n",
    "            tempK = int(hour_data[\"tempC\"]) + 273.15\n",
    "            weather_desc = hour_data[\"weatherDesc\"][0][\"value\"]\n",
    "            \n",
    "            time_arr = np.append(time_arr, time)\n",
    "            humidity_arr = np.append(humidity_arr ,  humidity)\n",
    "            wind_speed_arr = np.append(wind_speed_arr, wind_speed_ms)\n",
    "            wind_dir_arr = np.append(wind_dir_arr, wind_dir)\n",
    "            pressure_arr = np.append(pressure_arr, pressure)\n",
    "            temp_arr = np.append(temp_arr, tempK)\n",
    "            weather_desc_arr = np.append(weather_desc_arr, weather_desc)\n",
    "    \n",
    "    return humidity_arr, time_arr, wind_dir_arr, wind_speed_arr, pressure_arr, weather_desc_arr , temp_arr\n"
   ]
  },
  {
   "cell_type": "code",
   "execution_count": 70,
   "metadata": {},
   "outputs": [
    {
     "name": "stdout",
     "output_type": "stream",
     "text": [
      "98.38709677419355\n"
     ]
    }
   ],
   "source": [
    "from IPython.display import clear_output, display\n",
    "\n",
    "humidity_arr = np.array([])\n",
    "time_arr = np.array([])\n",
    "wind_dir_arr = np.array([])\n",
    "wind_speed_arr = np.array([])\n",
    "pressure_arr = np.array([])\n",
    "temp_arr = np.array([])\n",
    "weather_desc_arr = np.array([], dtype = object)\n",
    "count = 0\n",
    "for date in dates_list:\n",
    "    clear_output(wait = True)\n",
    "    print(count / len(dates_list) * 100)\n",
    "    count += 1\n",
    "    json = call_api_to_get_data(date[0], date[1])\n",
    "    humidity_arr, time_arr, wind_dir_arr, wind_speed_arr, pressure_arr, weather_desc_arr , temp_arr = handle_append_hcm_data(\n",
    "        json, humidity_arr, time_arr, wind_dir_arr, wind_speed_arr, pressure_arr, weather_desc_arr , temp_arr)\n",
    "\n"
   ]
  },
  {
   "cell_type": "code",
   "execution_count": 71,
   "metadata": {},
   "outputs": [],
   "source": [
    "df_hcm_humidity = pd.DataFrame({\"datetime\" : time_arr, \"Ho Chi Minh City\" : humidity_arr})\n",
    "df_hcm_pressure = pd.DataFrame({\"datetime\" : time_arr, \"Ho Chi Minh City\" : pressure_arr})\n",
    "df_hcm_wind_dir = pd.DataFrame({\"datetime\" : time_arr, \"Ho Chi Minh City\" : wind_dir_arr})\n",
    "df_hcm_wind_speed = pd.DataFrame({\"datetime\" : time_arr, \"Ho Chi Minh City\" : wind_speed_arr})\n",
    "df_hcm_temp= pd.DataFrame({\"datetime\" : time_arr, \"Ho Chi Minh City\" : temp_arr})\n",
    "df_hcm_weather_desc = pd.DataFrame({\"datetime\" : time_arr, \"Ho Chi Minh City\" : weather_desc_arr})\n",
    "\n",
    "df_humidity = pd.merge(df_humidity, df_hcm_humidity, on=\"datetime\")\n",
    "df_pressure = pd.merge(df_pressure, df_hcm_pressure, on=\"datetime\")\n",
    "df_wind_dir = pd.merge(df_wind_dir, df_hcm_wind_dir, on=\"datetime\")\n",
    "df_wind_speed = pd.merge(df_wind_speed, df_hcm_wind_speed, on=\"datetime\")\n",
    "df_temperature = pd.merge(df_temperature, df_hcm_temp, on=\"datetime\")\n",
    "df_weather_desc = pd.merge(df_weather_desc, df_hcm_weather_desc, on=\"datetime\")"
   ]
  },
  {
   "cell_type": "code",
   "execution_count": 76,
   "metadata": {},
   "outputs": [],
   "source": [
    "df_humidity.to_csv(\"historical-hourly-weather-dataset/humidity.csv\", index= False)\n",
    "df_pressure.to_csv(\"historical-hourly-weather-dataset/pressure.csv\", index= False)\n",
    "df_wind_dir.to_csv(\"historical-hourly-weather-dataset/wind_direction.csv\", index= False)\n",
    "df_wind_speed.to_csv(\"historical-hourly-weather-dataset/wind_speed.csv\", index= False)\n",
    "df_temperature.to_csv(\"historical-hourly-weather-dataset/temperature.csv\", index= False)\n",
    "df_weather_desc.to_csv(\"historical-hourly-weather-dataset/weather_description.csv\", index= False)"
   ]
  },
  {
   "cell_type": "code",
   "execution_count": 15,
   "metadata": {},
   "outputs": [],
   "source": [
    "import dill \n",
    "\n",
    "dill.dump_session(\"nb.db\")"
   ]
  },
  {
   "cell_type": "code",
   "execution_count": 1,
   "metadata": {},
   "outputs": [],
   "source": [
    "import dill\n",
    "\n",
    "dill.load_session(\"nb.db\")"
   ]
  }
 ],
 "metadata": {
  "kernelspec": {
   "display_name": "Python 3",
   "language": "python",
   "name": "python3"
  },
  "language_info": {
   "codemirror_mode": {
    "name": "ipython",
    "version": 3
   },
   "file_extension": ".py",
   "mimetype": "text/x-python",
   "name": "python",
   "nbconvert_exporter": "python",
   "pygments_lexer": "ipython3",
   "version": "3.10.9"
  }
 },
 "nbformat": 4,
 "nbformat_minor": 2
}
